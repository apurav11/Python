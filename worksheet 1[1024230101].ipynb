{
  "nbformat": 4,
  "nbformat_minor": 0,
  "metadata": {
    "colab": {
      "provenance": []
    },
    "kernelspec": {
      "name": "python3",
      "display_name": "Python 3"
    },
    "language_info": {
      "name": "python"
    }
  },
  "cells": [
    {
      "cell_type": "code",
      "execution_count": null,
      "metadata": {
        "id": "n50aYFTjonlH"
      },
      "outputs": [],
      "source": []
    },
    {
      "cell_type": "markdown",
      "source": [
        "**WORKsheet1**"
      ],
      "metadata": {
        "id": "jC3gbUAOot3a"
      }
    },
    {
      "cell_type": "markdown",
      "source": [
        "**`Q1`**"
      ],
      "metadata": {
        "id": "P_OqUclXo246"
      }
    },
    {
      "cell_type": "code",
      "source": [
        "print(\"\"\"\"Twinkle, twinkle, little star, How I wonder what you are! Up above\n",
        "the world so high, Like a diamond in the sky. Twinkle, twinkle, little star, How I wonder what\n",
        "you are\". \"\"\")"
      ],
      "metadata": {
        "colab": {
          "base_uri": "https://localhost:8080/"
        },
        "collapsed": true,
        "id": "R4k7dCtDovwN",
        "outputId": "30c23744-6a3b-45ee-9154-f41545e1a037"
      },
      "execution_count": null,
      "outputs": [
        {
          "output_type": "stream",
          "name": "stdout",
          "text": [
            "\"Twinkle, twinkle, little star, How I wonder what you are! Up above\n",
            "the world so high, Like a diamond in the sky. Twinkle, twinkle, little star, How I wonder what\n",
            "you are\". \n"
          ]
        }
      ]
    },
    {
      "cell_type": "markdown",
      "source": [
        "**Q2**"
      ],
      "metadata": {
        "id": "yvVE96c6pXa_"
      }
    },
    {
      "cell_type": "code",
      "source": [
        "f=input(\"Enter first name: \")\n",
        "l=input(\"Enter last name: \")\n",
        "print(l,f)"
      ],
      "metadata": {
        "colab": {
          "base_uri": "https://localhost:8080/"
        },
        "collapsed": true,
        "id": "0Wk_AzJPpcce",
        "outputId": "cf32a15b-bf61-42a6-9e0b-f8ef5bba5819"
      },
      "execution_count": null,
      "outputs": [
        {
          "output_type": "stream",
          "name": "stdout",
          "text": [
            "Enter first name: 2\n",
            "Enter last name: 2\n",
            "2 2\n"
          ]
        }
      ]
    },
    {
      "cell_type": "markdown",
      "source": [
        "***Q3***"
      ],
      "metadata": {
        "id": "SR2_AnAIqs0G"
      }
    },
    {
      "cell_type": "code",
      "source": [
        "r=float(input(\"Enter radius: \"))\n",
        "a=3.14159*r*r\n",
        "print(a)"
      ],
      "metadata": {
        "colab": {
          "base_uri": "https://localhost:8080/"
        },
        "collapsed": true,
        "id": "EZsbHwyNqyt3",
        "outputId": "fd443bdd-c02f-4fe9-8d31-c71e16051a04"
      },
      "execution_count": null,
      "outputs": [
        {
          "output_type": "stream",
          "name": "stdout",
          "text": [
            "Enter radius: 45\n",
            "6361.719749999999\n"
          ]
        }
      ]
    },
    {
      "cell_type": "markdown",
      "source": [
        "**Q4**"
      ],
      "metadata": {
        "id": "9E1xFBaaq3TA"
      }
    },
    {
      "cell_type": "code",
      "source": [
        "c=[\"Red\",\"Green\",\"White\",\"Black\"]\n",
        "print(c[0],c[-1])"
      ],
      "metadata": {
        "colab": {
          "base_uri": "https://localhost:8080/"
        },
        "collapsed": true,
        "id": "5NrFJN9hq5iB",
        "outputId": "d5d755c1-f710-4528-a35c-4e5a84d2a69c"
      },
      "execution_count": null,
      "outputs": [
        {
          "output_type": "stream",
          "name": "stdout",
          "text": [
            "Red Black\n"
          ]
        }
      ]
    },
    {
      "cell_type": "markdown",
      "source": [
        "**Q5**"
      ],
      "metadata": {
        "id": "bUgSNuunrChC"
      }
    },
    {
      "cell_type": "code",
      "source": [
        "n=int(input(\"Enter number: \"))\n",
        "print(n+n*n+n*n*n)"
      ],
      "metadata": {
        "id": "nf028f-zrFWR"
      },
      "execution_count": null,
      "outputs": []
    },
    {
      "cell_type": "markdown",
      "source": [
        "**Q6**"
      ],
      "metadata": {
        "id": "20T8A4PhrJrh"
      }
    },
    {
      "cell_type": "code",
      "source": [
        "s=input(\"Enter numbers: \")\n",
        "l=s.split(\",\")\n",
        "t=tuple(l)\n",
        "print(l)\n",
        "print(t)"
      ],
      "metadata": {
        "id": "0_KGPzMHrLQq"
      },
      "execution_count": null,
      "outputs": []
    },
    {
      "cell_type": "markdown",
      "source": [
        "**Q7**"
      ],
      "metadata": {
        "id": "RMYNNvqwrUQy"
      }
    },
    {
      "cell_type": "code",
      "source": [
        "c=float(input(\"Enter Celsius: \"))\n",
        "f=(c*9/5)+32\n",
        "print(f)"
      ],
      "metadata": {
        "id": "UF-YjxLJrVmq"
      },
      "execution_count": null,
      "outputs": []
    },
    {
      "cell_type": "markdown",
      "source": [
        "**Q8**"
      ],
      "metadata": {
        "id": "O6F7uyz-rY_b"
      }
    },
    {
      "cell_type": "code",
      "source": [
        "x=int(input(\"Enter first: \"))\n",
        "y=int(input(\"Enter second: \"))\n",
        "x,y=y,x\n",
        "print(x,y)"
      ],
      "metadata": {
        "id": "aSbDceTurYOU"
      },
      "execution_count": null,
      "outputs": []
    },
    {
      "cell_type": "markdown",
      "source": [
        "**Q9**"
      ],
      "metadata": {
        "id": "6zXeL3X_rdOU"
      }
    },
    {
      "cell_type": "code",
      "source": [
        "n=int(input(\"Enter number: \"))\n",
        "if n%2==0:\n",
        "    print(\"Even\")\n",
        "else:\n",
        "    print(\"Odd\")"
      ],
      "metadata": {
        "id": "I5cMsP6zrjuL"
      },
      "execution_count": null,
      "outputs": []
    },
    {
      "cell_type": "markdown",
      "source": [
        "**Q10**"
      ],
      "metadata": {
        "id": "UH040tO8roF0"
      }
    },
    {
      "cell_type": "code",
      "source": [
        "y=int(input(\"Enter year: \"))\n",
        "if(y%4==0 and y%100!=0) or (y%400==0):\n",
        "    print(\"Leap\")\n",
        "else:\n",
        "    print(\"Not Leap\")"
      ],
      "metadata": {
        "id": "wUfAG6DArrld"
      },
      "execution_count": null,
      "outputs": []
    },
    {
      "cell_type": "markdown",
      "source": [
        "Q11"
      ],
      "metadata": {
        "id": "UJD7cPXdru9e"
      }
    },
    {
      "cell_type": "code",
      "source": [
        "x1,y1=map(int,input(\"Enter x1 y1: \").split())\n",
        "x2,y2=map(int,input(\"Enter x2 y2: \").split())\n",
        "d=((x2-x1)**2+(y2-y1)**2)**0.5\n",
        "print(d)"
      ],
      "metadata": {
        "id": "sN01zKGUrwQ1"
      },
      "execution_count": null,
      "outputs": []
    },
    {
      "cell_type": "markdown",
      "source": [
        "**Q12**"
      ],
      "metadata": {
        "id": "9ZuWuoN1r3dP"
      }
    },
    {
      "cell_type": "code",
      "source": [
        "a=int(input())\n",
        "b=int(input())\n",
        "c=int(input())\n",
        "if a+b>c and a+c>b and b+c>a:\n",
        "    print(\"Triangle\")\n",
        "else:\n",
        "    print(\"Not Triangle\")"
      ],
      "metadata": {
        "id": "m9lvfFF_r5pW"
      },
      "execution_count": null,
      "outputs": []
    },
    {
      "cell_type": "markdown",
      "source": [
        "**Q13**"
      ],
      "metadata": {
        "id": "Y1rB0cObr8AY"
      }
    },
    {
      "cell_type": "code",
      "source": [
        "p=float(input(\"P: \"))\n",
        "r=float(input(\"R: \"))\n",
        "t=float(input(\"T: \"))\n",
        "a=p*(1+r/100)**t\n",
        "print(a)"
      ],
      "metadata": {
        "id": "RlhEW0ltr7eQ"
      },
      "execution_count": null,
      "outputs": []
    },
    {
      "cell_type": "markdown",
      "source": [
        "**Q14**"
      ],
      "metadata": {
        "id": "pMLkp2jor-hW"
      }
    },
    {
      "cell_type": "code",
      "source": [
        "n=int(input())\n",
        "f=0\n",
        "if n>1:\n",
        "    for i in range(2,n):\n",
        "        if n%i==0:\n",
        "            f=1\n",
        "            break\n",
        "if f==0 and n>1:\n",
        "    print(\"Prime\")\n",
        "else:\n",
        "    print(\"Not Prime\")"
      ],
      "metadata": {
        "id": "jaQgLw6GsD4g"
      },
      "execution_count": null,
      "outputs": []
    },
    {
      "cell_type": "markdown",
      "source": [
        "**Q15**"
      ],
      "metadata": {
        "id": "31GpNvZlsJqx"
      }
    },
    {
      "cell_type": "code",
      "source": [
        "n=int(input())\n",
        "s=0\n",
        "for i in range(1,n+1):\n",
        "    s+=i**2\n",
        "print(s)"
      ],
      "metadata": {
        "id": "vXcx5uGzsJgf"
      },
      "execution_count": null,
      "outputs": []
    }
  ]
}