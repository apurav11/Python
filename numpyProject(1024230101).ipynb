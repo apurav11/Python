{
  "nbformat": 4,
  "nbformat_minor": 0,
  "metadata": {
    "colab": {
      "provenance": []
    },
    "kernelspec": {
      "name": "python3",
      "display_name": "Python 3"
    },
    "language_info": {
      "name": "python"
    }
  },
  "cells": [
    {
      "cell_type": "markdown",
      "source": [
        "# **NumPyProjrct**"
      ],
      "metadata": {
        "id": "jgt7heGrffD8"
      }
    },
    {
      "cell_type": "markdown",
      "source": [
        "**P1**"
      ],
      "metadata": {
        "id": "U2xxrzvYftys"
      }
    },
    {
      "cell_type": "code",
      "execution_count": 7,
      "metadata": {
        "colab": {
          "base_uri": "https://localhost:8080/"
        },
        "id": "3q17RaSSeoai",
        "outputId": "3073134e-11ce-40cd-f8ae-c894d2c47912"
      },
      "outputs": [
        {
          "output_type": "stream",
          "name": "stdout",
          "text": [
            "Drive already mounted at /content/drive; to attempt to forcibly remount, call drive.mount(\"/content/drive\", force_remount=True).\n",
            "time:  01-09-2025 13:48\n",
            "Number of times the battery was less than or equal to 30%: 2215\n"
          ]
        }
      ],
      "source": [
        "from google.colab import drive\n",
        "drive.mount('/content/drive')\n",
        "\n",
        "import numpy as np\n",
        "\n",
        "path = \"/content/drive/MyDrive/sensor_data.csv\"\n",
        "data = np.genfromtxt(path, delimiter=\",\", skip_header=1, usecols=(1,2,3,4))\n",
        "\n",
        "temp = data[:, 0]\n",
        "distance = data[:, 1]\n",
        "battery = data[:, 2]\n",
        "humidity = data[:, 3]\n",
        "\n",
        "m_ean_temp = np.mean(temp)\n",
        "m_ean_distance = np.mean(distance)\n",
        "m_ean_battery = np.mean(battery)\n",
        "m_ean_humidity = np.mean(humidity)\n",
        "\n",
        "m_in_temp = np.min(temp)\n",
        "m_in_distance = np.min(distance)\n",
        "m_in_battery = np.min(battery)\n",
        "m_in_humidity = np.min(humidity)\n",
        "\n",
        "new_data = np.genfromtxt(path, delimiter=\",\", skip_header=1, usecols=(0), dtype=str)\n",
        "index = np.argmax(temp)\n",
        "print(\"time: \", new_data[index])\n",
        "\n",
        "count = np.count_nonzero(battery <= 30)\n",
        "print(f\"Number of times the battery was less than or equal to 30%: {count}\")\n",
        "\n",
        "with open(\"case1.csv\", 'w') as d:\n",
        "    d.write(f\"case1: {m_ean_temp}\\n\")\n",
        "    d.write(f\"case2: {m_ean_distance}\\n\")\n",
        "    d.write(f\"case3: {m_ean_battery}\\n\")\n",
        "    d.write(f\"case4: {m_ean_humidity}\\n\")\n",
        "\n",
        "    d.write(f\"\\ncase1: {m_in_temp}\\n\")\n",
        "    d.write(f\"case2: {m_in_distance}\\n\")\n",
        "    d.write(f\"case3: {m_in_battery}\\n\")\n",
        "    d.write(f\"case4: {m_in_humidity}\\n\")"
      ]
    },
    {
      "cell_type": "markdown",
      "source": [
        "**P2**"
      ],
      "metadata": {
        "id": "Js3RCTt1fwbk"
      }
    },
    {
      "cell_type": "code",
      "source": [
        "from google.colab import drive\n",
        "drive.mount('/content/drive')\n",
        "\n",
        "import numpy as np\n",
        "\n",
        "path = \"/content/drive/MyDrive/robot_path.csv\"\n",
        "\n",
        "data = np.genfromtxt(path, delimiter=\",\", skip_header=1, usecols=(0,1))\n",
        "\n",
        "\n",
        "diffs = np.diff(data, axis=0)\n",
        "step_distances = np.linalg.norm(diffs, axis=1)\n",
        "total_distance = np.sum(step_distances)\n",
        "\n",
        "\n",
        "distances_from_origin = np.linalg.norm(data, axis=1)\n",
        "farthest_point = np.max(distances_from_origin)\n",
        "\n",
        "unique_positions = np.unique(data, axis=0)\n",
        "revisited = len(unique_positions) < len(data)\n",
        "\n",
        "print(\"Total distance traveled:\", total_distance)\n",
        "print(\"Farthest point from origin:\", farthest_point)\n",
        "print(\"Did the robot revisit a position?:\", revisited)\n",
        "\n",
        "\n",
        "with open(\"robot_results.csv\", \"w\") as f:\n",
        "    f.write(f\"Total distance traveled: {total_distance}\\n\")\n",
        "    f.write(f\"Farthest point from origin: {farthest_point}\\n\")\n",
        "    f.write(f\"Revisited position: {revisited}\\n\")\n",
        "\n"
      ],
      "metadata": {
        "colab": {
          "base_uri": "https://localhost:8080/"
        },
        "id": "SfEUQrZJfyTM",
        "outputId": "049f89ad-21b9-4519-bfcb-d8e8852f39cf"
      },
      "execution_count": 8,
      "outputs": [
        {
          "output_type": "stream",
          "name": "stdout",
          "text": [
            "Drive already mounted at /content/drive; to attempt to forcibly remount, call drive.mount(\"/content/drive\", force_remount=True).\n",
            "Total distance traveled: 26549.342533860814\n",
            "Farthest point from origin: 336.1547262794322\n",
            "Did the robot revisit a position?: True\n"
          ]
        }
      ]
    }
  ]
}