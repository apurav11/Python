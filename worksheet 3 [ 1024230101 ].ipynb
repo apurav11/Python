{
  "nbformat": 4,
  "nbformat_minor": 0,
  "metadata": {
    "colab": {
      "provenance": []
    },
    "kernelspec": {
      "name": "python3",
      "display_name": "Python 3"
    },
    "language_info": {
      "name": "python"
    }
  },
  "cells": [
    {
      "cell_type": "markdown",
      "source": [
        "## ***worksheet 3***"
      ],
      "metadata": {
        "id": "w0O3904G2ZqZ"
      }
    },
    {
      "cell_type": "markdown",
      "source": [
        "**Q1**"
      ],
      "metadata": {
        "id": "iotiyauA2lvH"
      }
    },
    {
      "cell_type": "code",
      "source": [
        "def f(n):\n",
        "    if n>17:\n",
        "        return 2*abs(n-17)\n",
        "    else:\n",
        "        return 17-n\n",
        "n=int(input())\n",
        "print(f(n))"
      ],
      "metadata": {
        "colab": {
          "base_uri": "https://localhost:8080/"
        },
        "id": "RCJH6U4C2lYW",
        "outputId": "7aa3b78a-392d-469a-eacb-b826039b5299"
      },
      "execution_count": 3,
      "outputs": [
        {
          "output_type": "stream",
          "name": "stdout",
          "text": [
            "enter a number: 2\n",
            "15\n"
          ]
        }
      ]
    },
    {
      "cell_type": "markdown",
      "source": [
        "**Q2**"
      ],
      "metadata": {
        "id": "z8jAlAtB3tfW"
      }
    },
    {
      "cell_type": "code",
      "source": [
        "def f(n):\n",
        "    return (100<=n<=1000) or (n==2000)\n",
        "n=int(input())\n",
        "print(f(n))\n",
        "\n"
      ],
      "metadata": {
        "id": "W-xCNCdr3tRx"
      },
      "execution_count": null,
      "outputs": []
    },
    {
      "cell_type": "markdown",
      "source": [
        "**Q3**"
      ],
      "metadata": {
        "id": "UqS74goM4Qt7"
      }
    },
    {
      "cell_type": "code",
      "source": [
        "def f(n):\n",
        "    return (100<=n<=1000) or (n==2000)\n",
        "n=int(input())\n",
        "print(f(n))"
      ],
      "metadata": {
        "id": "p1IPq05h4SfD"
      },
      "execution_count": null,
      "outputs": []
    },
    {
      "cell_type": "markdown",
      "source": [
        "Q4"
      ],
      "metadata": {
        "id": "zk7wvuga4VRU"
      }
    },
    {
      "cell_type": "code",
      "source": [
        "def f(s):\n",
        "    u=sum(1 for i in s if i.isupper())\n",
        "    l=sum(1 for i in s if i.islower())\n",
        "    return u,l\n",
        "s=input()\n",
        "print(f(s))"
      ],
      "metadata": {
        "id": "e9GpTiGj4WVD"
      },
      "execution_count": null,
      "outputs": []
    },
    {
      "cell_type": "markdown",
      "source": [
        "**Q5**"
      ],
      "metadata": {
        "id": "DlUtiTaY4aXk"
      }
    },
    {
      "cell_type": "code",
      "source": [
        "def f(s):\n",
        "    u=sum(1 for i in s if i.isupper())\n",
        "    l=sum(1 for i in s if i.islower())\n",
        "    return u,l\n",
        "s=input()\n",
        "print(f(s))"
      ],
      "metadata": {
        "colab": {
          "base_uri": "https://localhost:8080/"
        },
        "id": "ylRsDhha4Xc0",
        "outputId": "5dd2b349-d8aa-4cb9-8a50-28a9fe3d343e"
      },
      "execution_count": 6,
      "outputs": [
        {
          "output_type": "stream",
          "name": "stdout",
          "text": [
            "ApuravAA\n",
            "(3, 5)\n"
          ]
        }
      ]
    },
    {
      "cell_type": "markdown",
      "source": [
        "**Q6**"
      ],
      "metadata": {
        "id": "7XWEOA204rVm"
      }
    },
    {
      "cell_type": "code",
      "source": [
        "def f(l):\n",
        "    return [i for i in l if i%2==0]\n",
        "l=list(map(int,input().split()))\n",
        "print(f(l))"
      ],
      "metadata": {
        "id": "SZDnfM2U4syk"
      },
      "execution_count": null,
      "outputs": []
    },
    {
      "cell_type": "markdown",
      "source": [
        "**Q7**"
      ],
      "metadata": {
        "id": "derw39_04wtV"
      }
    },
    {
      "cell_type": "code",
      "source": [
        "def a():\n",
        "    def b():\n",
        "        print(\"move\")\n",
        "    b()\n",
        "    print(\"love\")\n",
        "a()\n"
      ],
      "metadata": {
        "colab": {
          "base_uri": "https://localhost:8080/"
        },
        "id": "i0sDKljK4yll",
        "outputId": "34bf6536-7871-4cbd-aa08-9b2af4a61be5"
      },
      "execution_count": 10,
      "outputs": [
        {
          "output_type": "stream",
          "name": "stdout",
          "text": [
            "love\n",
            "move\n"
          ]
        }
      ]
    },
    {
      "cell_type": "markdown",
      "source": [
        "**Q8**"
      ],
      "metadata": {
        "id": "XIVCi1TQ5K8R"
      }
    },
    {
      "cell_type": "code",
      "source": [
        "def f(n,a,c):\n",
        "    print(f.__name__,n,a,c)\n",
        "n=input()\n",
        "a=input()\n",
        "c=input()\n",
        "f(n,a,c)\n"
      ],
      "metadata": {
        "id": "xvuZDe6c5NGi"
      },
      "execution_count": null,
      "outputs": []
    },
    {
      "cell_type": "markdown",
      "source": [
        "Q9"
      ],
      "metadata": {
        "id": "-CTd57ZO5Mqy"
      }
    },
    {
      "cell_type": "code",
      "source": [
        "def f(x,y,d):\n",
        "    if d==\"up\":\n",
        "        y+=1\n",
        "    elif d==\"down\":\n",
        "        y-=1\n",
        "    elif d==\"left\":\n",
        "        x-=1\n",
        "    elif d==\"right\":\n",
        "        x+=1\n",
        "    return x,y\n",
        "x,y=map(int,input().split())\n",
        "d=input()\n",
        "print(f(x,y,d))\n"
      ],
      "metadata": {
        "id": "CERRHxBm5Tvz"
      },
      "execution_count": null,
      "outputs": []
    },
    {
      "cell_type": "markdown",
      "source": [
        "**Q10**"
      ],
      "metadata": {
        "id": "ngxDEaUZ5ZEq"
      }
    },
    {
      "cell_type": "code",
      "source": [
        "def f(t):\n",
        "    if t<15:\n",
        "        return \"Cold\"\n",
        "    elif t<=30:\n",
        "        return \"Moderate\"\n",
        "    else:\n",
        "        return \"Hot\"\n",
        "t=int(input())\n",
        "print(f(t))\n"
      ],
      "metadata": {
        "id": "FFpcRVf65a28"
      },
      "execution_count": null,
      "outputs": []
    },
    {
      "cell_type": "markdown",
      "source": [
        "Q11"
      ],
      "metadata": {
        "id": "lhkAdW5g5bkq"
      }
    },
    {
      "cell_type": "code",
      "source": [
        "def f(p):\n",
        "    x=y=0\n",
        "    for i in p:\n",
        "        if i==\"up\":\n",
        "            y+=1\n",
        "        elif i==\"down\":\n",
        "            y-=1\n",
        "        elif i==\"left\":\n",
        "            x-=1\n",
        "        elif i==\"right\":\n",
        "            x+=1\n",
        "    return (x,y)==(2,0)\n",
        "p=input().split()\n",
        "print(f(p))\n"
      ],
      "metadata": {
        "id": "24FTTmsJ5csJ"
      },
      "execution_count": null,
      "outputs": []
    },
    {
      "cell_type": "markdown",
      "source": [
        "**Q12**"
      ],
      "metadata": {
        "id": "xTtAqnwJ5eyT"
      }
    },
    {
      "cell_type": "code",
      "source": [
        "class s:\n",
        "    def __init__(a,i,n):\n",
        "        a.i=i\n",
        "        a.n=n\n",
        "        a.c=\"\"\n",
        "    def add(a,c):\n",
        "        a.c=c\n",
        "    def show(a):\n",
        "        print(a.i,a.n,a.c)\n",
        "\n",
        "i=input()\n",
        "n=input()\n",
        "o=s(i,n)\n",
        "c=input()\n",
        "o.add(c)\n",
        "o.show()"
      ],
      "metadata": {
        "id": "0cz8QS2W5eRk"
      },
      "execution_count": null,
      "outputs": []
    }
  ]
}